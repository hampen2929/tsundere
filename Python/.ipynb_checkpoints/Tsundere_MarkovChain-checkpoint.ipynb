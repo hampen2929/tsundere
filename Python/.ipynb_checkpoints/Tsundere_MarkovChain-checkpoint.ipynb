{
 "cells": [
  {
   "cell_type": "markdown",
   "metadata": {},
   "source": [
    "# 実行環境\n",
    " - Ubuntu 16.04\n",
    " - python2"
   ]
  },
  {
   "cell_type": "markdown",
   "metadata": {},
   "source": [
    "# テキストファイルの読み込み"
   ]
  },
  {
   "cell_type": "code",
   "execution_count": 14,
   "metadata": {},
   "outputs": [],
   "source": [
    "from PrepareChain import PrepareChain\n",
    "f = open('../text/text.txt')\n",
    "text = f.read()\n",
    "f.close()\n",
    "chain = PrepareChain(text)\n",
    "triplet_freqs = chain.make_triplet_freqs()\n",
    "chain.save(triplet_freqs, True)"
   ]
  },
  {
   "cell_type": "markdown",
   "metadata": {},
   "source": [
    "# 文章の生成"
   ]
  },
  {
   "cell_type": "code",
   "execution_count": 32,
   "metadata": {
    "collapsed": true
   },
   "outputs": [],
   "source": [
    "from GenerateText import GenerateText\n",
    "generated_sentences = []\n",
    "for i in range(5):\n",
    "    generator = GenerateText()\n",
    "    generated_sentences.append(generator.generate())"
   ]
  },
  {
   "cell_type": "markdown",
   "metadata": {},
   "source": [
    "# 文章の表示"
   ]
  },
  {
   "cell_type": "code",
   "execution_count": 33,
   "metadata": {},
   "outputs": [
    {
     "name": "stdout",
     "output_type": "stream",
     "text": [
      "あんたと一緒に行きたいって云ったどっかの誰かの分です。な、なにしてんのよ!もうちょっと嬉しそうな顔しなさいよ。怪我でもされたら私がいるじゃないんだから。これ、プレゼント。別にアンタの事なんて、全然嬉しくないんだから、ね？\n",
      "誕生日プレゼントなんて誰にももらえないだろうから。…だって、私の邪魔だけはしないでよ！ばかぁ！お、お前の席無いんだから………好き、です。なっ、なによあいつ！私も今ちょうど帰るとこなんだからねっ！うるちゃいうるちゃいうるちゃーい！\n",
      "あ、あああ、明日は私、偶然ハート型に出来ただけだしっっ！前に進みなさい！一生よっ！いいわね、バカ、大変態！クズ！嫌い………べ、別にあんたなんかがカッコいいだなんて、言ってないんだよね！ききききき、キスなんて百年早いわよ。もう！アンタの為に作ってあげたんだかんね。全力で来なさいよ！\n",
      "ありがたく思いなさいよ。あんたのことを。さ、寒くなってきたよ。す、好きでこんな格好してるわけじゃないんだからね！な、生意気言うな。\n",
      "べっ、別にあなたのために用意したわけじゃない！知らないバカ！私のこと好きやない。ノーとは言わせんのよ！…は？す、好きなんて言ってたでしょ。あんたと一緒に要られるのは　今日は暑いから脱いだだけよ。お兄ちゃん、この私が困るじゃないからねッ！！\n"
     ]
    }
   ],
   "source": [
    "for i in range(len(generated_sentences)):\n",
    "    print(generated_sentences[i])"
   ]
  }
 ],
 "metadata": {
  "anaconda-cloud": {},
  "kernelspec": {
   "display_name": "Python 3",
   "language": "python",
   "name": "python3"
  },
  "language_info": {
   "codemirror_mode": {
    "name": "ipython",
    "version": 3
   },
   "file_extension": ".py",
   "mimetype": "text/x-python",
   "name": "python",
   "nbconvert_exporter": "python",
   "pygments_lexer": "ipython3",
   "version": "3.5.5"
  },
  "toc": {
   "base_numbering": 1,
   "nav_menu": {},
   "number_sections": true,
   "sideBar": true,
   "skip_h1_title": false,
   "title_cell": "Table of Contents",
   "title_sidebar": "Contents",
   "toc_cell": false,
   "toc_position": {},
   "toc_section_display": "block",
   "toc_window_display": false
  }
 },
 "nbformat": 4,
 "nbformat_minor": 1
}
